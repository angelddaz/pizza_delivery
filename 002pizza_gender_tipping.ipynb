{
 "cells": [
  {
   "cell_type": "markdown",
   "metadata": {
    "deletable": true,
    "editable": true
   },
   "source": [
    "When I tell people that I have a great pizza delivery dataset that I collected while delivering for Domino's with my wife,  one of the most common questions I get are:\n",
    "\n",
    "*Who tips better, men or women?*\n",
    "*Who gets better tips, you, or your wife?*\n",
    "\n",
    "These are interesting questions but I think the follow-up questions are just as interesting. Which gender tips me, or my wife, better? And by how much? I certainly don't mean this analysis to be a battle of the genders, but it will be interesting to see what the statistics say!"
   ]
  },
  {
   "cell_type": "markdown",
   "metadata": {
    "deletable": true,
    "editable": true
   },
   "source": [
    "![Domino's](http://www.pizzadelivery.org/Portals/0/ContentImages/xebra_dominos_store.jpg)"
   ]
  },
  {
   "cell_type": "markdown",
   "metadata": {
    "deletable": true,
    "editable": true
   },
   "source": [
    "The very first question I want to answer is; are the overall means of tips different between me and Sammie, my wife?\n",
    "\n",
    "**H0 : mu_a = mu_s**\n",
    "\n",
    "**HA: mu_a != mu_s**"
   ]
  },
  {
   "cell_type": "code",
   "execution_count": null,
   "metadata": {
    "collapsed": false,
    "deletable": true,
    "editable": true
   },
   "outputs": [],
   "source": [
    "%matplotlib inline\n",
    "import pandas as pd\n",
    "import math\n",
    "import scipy.stats as stats\n",
    "import numpy as np\n",
    "\n",
    "path = r'C:\\Users\\angelddaz\\OneDrive\\Documents\\data_training\\data\\RawDelData.csv' #please fix file location\n",
    "data = pd.read_csv(path)\n",
    "df = pd.DataFrame(data, columns = ['Tip', 'PersonWhoDelivered'])\n",
    "\n",
    "aDels = data.loc[data['PersonWhoDelivered']=='Angel'][['Tip']]\n",
    "sDels = data.loc[data['PersonWhoDelivered']=='Sammie'][['Tip']]\n",
    "\n",
    "mu_a = aDels.mean() #Angel Delivery mean = 3.376236\n",
    "mu_s = sDels.mean() #Sammie Delivery mean = 3.412869\n",
    "sigma_a = aDels.std() #Angel stdev = 2.184814\n",
    "sigma_s = sDels.std() #Sammie stdev = 2.040795\n",
    "variance_a = aDels.std() * aDels.std() #Angel variance = 4.773414\n",
    "variance_s = sDels.std() * sDels.std() #Sammie variance = 4.164844\n",
    "n_a = aDels.count() #Angel sample size = 712\n",
    "n_s = sDels.count() #Sammie sample size = 589\n",
    "df = n_a + n_s - 2 -1 #n-k-1: degrees of freedom = 1298\n",
    "\n",
    "#This is where the Hypothesis starts:\n",
    "#Two Sample T Test\n",
    "den1 = variance_a/n_a #formula chunk: 0.006704\n",
    "den2 = variance_s/n_s #formula chunk: 0.007071\n",
    "den3 = den1+den2      #formula chunk: 0.013775\n",
    "den = math.sqrt(den3) #denominator value: 0.11736812016136079\n",
    "num = mu_a - mu_s     #numerator value: -0.036633\n",
    "\n",
    "\n",
    "t_crit = 1.9673\n",
    "t_stat = num/den\n",
    "print 't stat:'\n",
    "print t_stat\n",
    "print 'p val:'\n",
    "pval = 1-stats.t.sf(t_stat, df)\n",
    "print pval\n",
    "\n",
    "if float(t_stat) < float(t_crit):\n",
    "    print(\"We fail to reject the null hypothesis that the two means are statistically the same.\")\n",
    "    print(\"Therefore, we can conclude with some certainty that the two tips means are equal.\")\n",
    "    print('t-statistic = %6.3f pvalue = %6.4f' % (t_stat, pval))\n",
    "else:\n",
    "    print(\"We reject the null hypothesis that the two means are statistically the same.\")"
   ]
  },
  {
   "cell_type": "markdown",
   "metadata": {
    "deletable": true,
    "editable": true
   },
   "source": [
    "My tip mean is 3.376236 and Sammie's tip mean is 3.412869. As a whole, they're pretty much the same.\n",
    "\n",
    "Now it's time to look at the data, no fancy statistics, just counts and means, broken down by genders."
   ]
  },
  {
   "cell_type": "code",
   "execution_count": null,
   "metadata": {
    "collapsed": false,
    "deletable": true,
    "editable": true
   },
   "outputs": [],
   "source": [
    "aDels = data.loc[data['PersonWhoDelivered']=='Angel'][['Tip', 'GenderOfTipper']]\n",
    "sDels = data.loc[data['PersonWhoDelivered']=='Sammie'][['Tip', 'GenderOfTipper']]\n",
    "\n",
    "afem = 0 #female tippers for me\n",
    "amale = 0\n",
    "sfem = 0\n",
    "smale = 0\n",
    "for i in aDels['GenderOfTipper']:\n",
    "    if i == 'Female':\n",
    "        afem = afem + 1\n",
    "    elif i == 'Male':\n",
    "        amale = amale + 1\n",
    "        \n",
    "for i in sDels['GenderOfTipper']:\n",
    "    if i == 'Female':\n",
    "        sfem = sfem + 1\n",
    "    elif i == 'Male':\n",
    "        smale = smale + 1\n",
    "\n",
    "print \"Angel- Female Tippers: \",afem\n",
    "print \"Angel- Male Tippers: \",amale\n",
    "print \"Sammie- Female Tippers: \",sfem\n",
    "print \"Sammie- Male Tippers: \",smale\n",
    "\n",
    "import matplotlib.pyplot as pl\n",
    "\n",
    "#building a bar chart\n",
    "objects = ('Apartment', 'House', 'Hotel', 'Business')\n",
    "y_pos = np.arange(len(objects))\n",
    "xvals = [afem, amale, sfem, smale]\n",
    "\n",
    "pl.bar(y_pos, xvals, align='center', alpha=0.5)\n",
    "pl.xticks(y_pos, objects, fontsize=18)\n",
    "pl.ylabel('Amount of Deliveries', fontsize=18)\n",
    "pl.title('Title', fontsize=22)\n",
    "pl.rcParams['figure.figsize'] = (15, 10)\n",
    "pl.show()"
   ]
  },
  {
   "cell_type": "code",
   "execution_count": null,
   "metadata": {
    "collapsed": true,
    "deletable": true,
    "editable": true
   },
   "outputs": [],
   "source": []
  }
 ],
 "metadata": {
  "kernelspec": {
   "display_name": "Python 2",
   "language": "python",
   "name": "python2"
  },
  "language_info": {
   "codemirror_mode": {
    "name": "ipython",
    "version": 2
   },
   "file_extension": ".py",
   "mimetype": "text/x-python",
   "name": "python",
   "nbconvert_exporter": "python",
   "pygments_lexer": "ipython2",
   "version": "2.7.11"
  }
 },
 "nbformat": 4,
 "nbformat_minor": 0
}
