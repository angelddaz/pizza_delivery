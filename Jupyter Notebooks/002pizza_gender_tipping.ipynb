{
 "cells": [
  {
   "cell_type": "markdown",
   "metadata": {
    "deletable": true,
    "editable": true
   },
   "source": [
    "When I tell people that I have a great pizza delivery dataset that I collected while delivering for Domino's with my wife,  one of the most common questions I get are:\n",
    "\n",
    "*Who tips better, men or women?*\n",
    "*Who gets better tips, you? or your wife?*\n",
    "\n",
    "These are interesting questions but I think the follow-up questions are just as interesting. Which gender tips me, or my wife, better? And by how much? I certainly don't mean this analysis to be a battle of the genders, but it will be interesting to see what the statistics say!"
   ]
  },
  {
   "cell_type": "markdown",
   "metadata": {
    "deletable": true,
    "editable": true
   },
   "source": [
    "![Domino's](http://www.pizzadelivery.org/Portals/0/ContentImages/xebra_dominos_store.jpg)"
   ]
  },
  {
   "cell_type": "markdown",
   "metadata": {
    "deletable": true,
    "editable": true
   },
   "source": [
    "The very first question I want to answer is; are the overall means of tips different between me and Sammie, my wife?\n",
    "\n",
    "**H0 : mu_a = mu_s**\n",
    "\n",
    "**HA: mu_a != mu_s**"
   ]
  },
  {
   "cell_type": "code",
   "execution_count": 89,
   "metadata": {
    "collapsed": false,
    "deletable": true,
    "editable": true
   },
   "outputs": [
    {
     "name": "stdout",
     "output_type": "stream",
     "text": [
      "t crit 1.9673\n",
      "t stat: -0.312123214059 \n",
      "\n",
      "Angel tip mean:$ 3.38\n",
      "Sammie tip mean:$ 3.41\n"
     ]
    }
   ],
   "source": [
    "%matplotlib inline\n",
    "import pandas as pd\n",
    "import math\n",
    "#import scipy.stats as stats #not working right now?\n",
    "import numpy as np\n",
    "\n",
    "path = r'C:\\Users\\angelddaz\\OneDrive\\Documents\\data_training\\data\\RawDelData.csv' #please fix file location\n",
    "data = pd.read_csv(path)\n",
    "\n",
    "aDels = data.loc[data['PersonWhoDelivered']=='Angel'][['Tip']]\n",
    "sDels = data.loc[data['PersonWhoDelivered']=='Sammie'][['Tip']]\n",
    "\n",
    "mu_a = aDels.mean() #Angel Delivery mean = 3.376236\n",
    "mu_s = sDels.mean() #Sammie Delivery mean = 3.412869\n",
    "sigma_a = aDels.std() #Angel stdev = 2.184814\n",
    "sigma_s = sDels.std() #Sammie stdev = 2.040795\n",
    "variance_a = aDels.std() * aDels.std() #Angel variance = 4.773414\n",
    "variance_s = sDels.std() * sDels.std() #Sammie variance = 4.164844\n",
    "n_a = aDels.count() #Angel sample size = 712\n",
    "n_s = sDels.count() #Sammie sample size = 589\n",
    "degf = n_a + n_s - 2 -1 #n-k-1: degrees of freedom = 1298\n",
    "\n",
    "#This is where the Hypothesis starts:\n",
    "#Two Sample T Test\n",
    "den1 = variance_a/n_a #formula chunk: 0.006704\n",
    "den2 = variance_s/n_s #formula chunk: 0.007071\n",
    "den3 = den1+den2      #formula chunk: 0.013775\n",
    "den = math.sqrt(den3) #denominator value: 0.11736812016136079\n",
    "num = mu_a - mu_s     #numerator value: -0.036633\n",
    "\n",
    "\n",
    "t_crit = 1.9673\n",
    "t_stat = num/den\n",
    "print 't crit', t_crit\n",
    "print 't stat:', float(t_stat), \"\\n\"\n",
    "print \"Angel tip mean:$ %.2f\" %mu_a\n",
    "print \"Sammie tip mean:$ %.2f\" %mu_s\n",
    "#print 'p val:'\n",
    "#pval = 1-scipy.stats.t.sf(t_stat, df) #not working right now\n",
    "#print pval"
   ]
  },
  {
   "cell_type": "markdown",
   "metadata": {
    "deletable": true,
    "editable": true
   },
   "source": [
    "My tip mean is 3.376236 and Sammie's tip mean is 3.412869. As a whole, they're pretty much the same.\n",
    "\n",
    "**We fail to reject the null hypothesis that the two means are statistically the same, because our t_stat is much less absolute value than our t_crit.**\n",
    "\n",
    "\n",
    "Now it's time to look at the data, no fancy statistics, just counts and means, broken down by genders."
   ]
  },
  {
   "cell_type": "code",
   "execution_count": 91,
   "metadata": {
    "collapsed": false,
    "deletable": true,
    "editable": true
   },
   "outputs": [
    {
     "data": {
      "image/png": "[encoded data removed]",
      "text/plain": [
       "<matplotlib.figure.Figure at 0xaed0438>"
      ]
     },
     "metadata": {},
     "output_type": "display_data"
    },
    {
     "name": "stdout",
     "output_type": "stream",
     "text": [
      "Angel- Female Tippers:  276\n",
      "Angel- Male Tippers:  436\n",
      "Sammie- Female Tippers:  227\n",
      "Sammie- Male Tippers:  362\n"
     ]
    }
   ],
   "source": [
    "aDels = data.loc[data['PersonWhoDelivered']=='Angel'][['Tip', 'GenderOfTipper']]\n",
    "sDels = data.loc[data['PersonWhoDelivered']=='Sammie'][['Tip', 'GenderOfTipper']]\n",
    "\n",
    "\n",
    "\n",
    "#The next two for loops is duplicated later on through four lines of code.\n",
    "#I did these counters two different ways to learn more about python and pandas.\n",
    "afem = 0 #female tippers for me\n",
    "amale = 0\n",
    "sfem = 0\n",
    "smale = 0 #female tippers for sam\n",
    "for i in aDels['GenderOfTipper']:\n",
    "    if i == 'Female':\n",
    "        afem = afem + 1\n",
    "    elif i == 'Male':\n",
    "        amale = amale + 1\n",
    "        \n",
    "for i in sDels['GenderOfTipper']:\n",
    "    if i == 'Female':\n",
    "        sfem = sfem + 1\n",
    "    elif i == 'Male':\n",
    "        smale = smale + 1\n",
    "\n",
    "import matplotlib.pyplot as pl\n",
    "\n",
    "#building the first of four bar charts\n",
    "objects = ('A- Female Tippers', 'A- Male Tippers', 'S- Female Tippers', 'S- Male Tippers')\n",
    "y_pos = np.arange(len(objects))\n",
    "xvals = [afem, amale, sfem, smale]\n",
    "\n",
    "pl.bar(y_pos, xvals, align='center', alpha=0.5)\n",
    "pl.xticks(y_pos, objects, fontsize=18)\n",
    "pl.ylabel('Amount of Deliveries', fontsize=18)\n",
    "pl.title('Number of Tippers by Gender', fontsize=22)\n",
    "pl.rcParams['figure.figsize'] = (15, 10)\n",
    "pl.show()\n",
    "\n",
    "print \"Angel- Female Tippers: \",afem\n",
    "print \"Angel- Male Tippers: \",amale\n",
    "print \"Sammie- Female Tippers: \",sfem\n",
    "print \"Sammie- Male Tippers: \",smale"
   ]
  },
  {
   "cell_type": "markdown",
   "metadata": {
    "deletable": true,
    "editable": true
   },
   "source": [
    "The next step is to see the actual averages both Sam and I received from each gender:"
   ]
  },
  {
   "cell_type": "code",
   "execution_count": 69,
   "metadata": {
    "collapsed": false,
    "deletable": true,
    "editable": true
   },
   "outputs": [
    {
     "data": {
      "image/png": "[encoded data removed]",
      "text/plain": [
       "<matplotlib.figure.Figure at 0x88d0b00>"
      ]
     },
     "metadata": {},
     "output_type": "display_data"
    },
    {
     "name": "stdout",
     "output_type": "stream",
     "text": [
      "Sum of Angel Female Tips: $ 889.45\n",
      "Sum of Angel Male Tips: $ 1514.43\n",
      "Sum of Sammie Female Tips: $ 764.32\n",
      "Sum of Sammie Male Tips: $ 1245.86 \n",
      "\n"
     ]
    }
   ],
   "source": [
    "#Grabbing all four sums\n",
    "aFsum = aDels.loc[aDels['GenderOfTipper'] == 'Female', 'Tip'].sum() \n",
    "aMsum = aDels.loc[aDels['GenderOfTipper'] == 'Male', 'Tip'].sum()\n",
    "sFsum = sDels.loc[sDels['GenderOfTipper'] == 'Female', 'Tip'].sum()\n",
    "sMsum = sDels.loc[sDels['GenderOfTipper'] == 'Male', 'Tip'].sum()\n",
    "\n",
    "\n",
    "#objects was created in the previous bar chart creation\n",
    "xvals = [aFsum, aMsum, sFsum, sMsum]\n",
    "\n",
    "pl.bar(y_pos, xvals, align='center', alpha=0.5)\n",
    "pl.xticks(y_pos, objects, fontsize=18)\n",
    "pl.ylabel('Tips in Dollars', fontsize=18)\n",
    "pl.title('Sum of All Tips by Gender', fontsize=22)\n",
    "pl.rcParams['figure.figsize'] = (15, 10)\n",
    "pl.show()\n",
    "\n",
    "print \"Sum of Angel Female Tips: $\", aFsum\n",
    "print \"Sum of Angel Male Tips: $\", aMsum\n",
    "print \"Sum of Sammie Female Tips: $\", sFsum\n",
    "print \"Sum of Sammie Male Tips: $\", sMsum, \"\\n\"\n",
    "\n",
    "#The following lines are to confirm that my 'queries' work. They seem to have worked.\n",
    "#x = aDels.loc[data['GenderOfTipper']=='Female'][['Tip', 'GenderOfTipper']] #Angel Female deliveries\n",
    "#print x.tail() \n",
    "#x = sDels.loc[sDels['GenderOfTipper'] == 'Male'][['Tip', 'GenderOfTipper']] #Angel Female deliveries\n",
    "#print x.tail() "
   ]
  },
  {
   "cell_type": "markdown",
   "metadata": {},
   "source": [
    "Sums alone can be misleading without context. These bars seem to match the proportions of the first bar chart, which showed number of tippers."
   ]
  },
  {
   "cell_type": "code",
   "execution_count": 70,
   "metadata": {
    "collapsed": false,
    "deletable": true,
    "editable": true
   },
   "outputs": [
    {
     "data": {
      "image/png": "[encoded data removed]",
      "text/plain": [
       "<matplotlib.figure.Figure at 0xa1e6780>"
      ]
     },
     "metadata": {},
     "output_type": "display_data"
    },
    {
     "name": "stdout",
     "output_type": "stream",
     "text": [
      "Avg of Angel Female Tips: $ 3.22\n",
      "Avg of Angel Male Tips: $ 3.47\n",
      "Avg of Sammie Female Tips: $ 3.37\n",
      "Avg of Sammie Male Tips: $ 3.44 \n",
      "\n"
     ]
    }
   ],
   "source": [
    "#Now to grab all four counts\n",
    "aFcount = aDels.loc[aDels['GenderOfTipper'] == 'Female', 'Tip'].count()\n",
    "aMcount = aDels.loc[aDels['GenderOfTipper'] == 'Male', 'Tip'].count()\n",
    "sFcount = sDels.loc[sDels['GenderOfTipper'] == 'Female', 'Tip'].count()\n",
    "sMcount = sDels.loc[sDels['GenderOfTipper'] == 'Male', 'Tip'].count()\n",
    "\n",
    "\n",
    "#Finally Averages\n",
    "#Here is where it starts to get interesting:\n",
    "aFavg = aFsum / aFcount\n",
    "aMavg = aMsum / aMcount\n",
    "sFavg = sFsum / sFcount\n",
    "sMavg = sMsum / sMcount\n",
    "\n",
    "#objects was created in the first bar chart creation\n",
    "xvals = [aFavg, aMavg, sFavg, sMavg]\n",
    "\n",
    "barlist = pl.bar(y_pos, xvals, align='center', alpha=0.5)\n",
    "pl.xticks(y_pos, objects, fontsize=18)\n",
    "barlist[0].set_color('g') #for the heck of it\n",
    "barlist[1].set_color('g')\n",
    "barlist[2].set_color('r')\n",
    "barlist[3].set_color('r')\n",
    "pl.ylabel('Tips in Dollars', fontsize=18)\n",
    "pl.title('Average of Tips by Gender', fontsize=22)\n",
    "pl.rcParams['figure.figsize'] = (15, 10)\n",
    "pl.show()\n",
    "\n",
    "print \"Avg of Angel Female Tips: $ %.2f\" %aFavg\n",
    "print \"Avg of Angel Male Tips: $ %.2f\" %aMavg\n",
    "print \"Avg of Sammie Female Tips: $ %.2f\" %sFavg\n",
    "print \"Avg of Sammie Male Tips: $ %.2f\" %sMavg, \"\\n\""
   ]
  },
  {
   "cell_type": "markdown",
   "metadata": {},
   "source": [
    "This is a good place to pause and have a slice of pizza.\n",
    "\n",
    "On the surface, it seems like men tip better to the both of us. The dataset is large enough to where further statistics might just prove what this latest bar chart is telling us and I will leave this statistical rigour to another notebook.\n",
    "\n",
    "1. Men tip both of us better than women.\n",
    "2. Women tip Sammie (relatively*) much better than they tip me.\n",
    "\n",
    "Just to save you the scrolling up, the overall averages between Sammie and I were:\n",
    "\n",
    "*15 cents is a lot when the mirror disparity (AMale-SMale) is 3 cents"
   ]
  },
  {
   "cell_type": "code",
   "execution_count": 71,
   "metadata": {
    "collapsed": false
   },
   "outputs": [
    {
     "name": "stdout",
     "output_type": "stream",
     "text": [
      "Angel overall tip mean: $ 3.38\n",
      "Sammie overall tip mean: $ 3.41\n"
     ]
    }
   ],
   "source": [
    "print \"Angel overall tip mean: $ %.2f\" %mu_a\n",
    "print \"Sammie overall tip mean: $ %.2f\" %mu_s"
   ]
  },
  {
   "cell_type": "markdown",
   "metadata": {},
   "source": [
    "With the overall means context, ranking the 3 buckets in ascending order for each of us shows these jumps:\n",
    "\n",
    "\n",
    "    \n",
    "The perceptible difference between our standard deviations comes to the forefront of my mind:"
   ]
  },
  {
   "cell_type": "code",
   "execution_count": 132,
   "metadata": {
    "collapsed": false
   },
   "outputs": [
    {
     "name": "stdout",
     "output_type": "stream",
     "text": [
      "Ranking of Avg Tips for me:\n",
      "Women:      $3.22 (+0.00)\n",
      "Overall:    $3.38 (+0.16)\n",
      "Men:        $3.47 (+0.09)\n",
      "dtype: object \n",
      "\n",
      "\n",
      "Ranking of Avg Tips for Sammie:\n",
      "Women:      $3.37 (+0.00)\n",
      "Overall:    $3.41 (+0.03)\n",
      "Men:        $3.44 (+0.03)\n",
      "dtype: object \n",
      "\n",
      "\n",
      "Ranking of All Seven Avg Tips:\n",
      "A-Women:         $3.22 (+0.00)\n",
      "S-Women:         $3.37 (+0.15)\n",
      "A-Overall:       $3.38 (+0.01)\n",
      "Both-Overall:    $3.39 (+0.02)\n",
      "S-Overall:       $3.41 (+0.03)\n",
      "S-Men:           $3.44 (+0.03)\n",
      "A-Men:           $3.47 (+0.03)\n",
      "dtype: object\n"
     ]
    }
   ],
   "source": [
    "print \"Ranking of Avg Tips for me:\"\n",
    "df = pd.Series([\"$%.2f (+0.00)\" %aFavg, \"$%.2f (+0.16)\" %mu_a, \"$%.2f (+0.09)\" %aMavg], index=['Women:', 'Overall:', 'Men:'])\n",
    "print df , \"\\n\\n\"\n",
    "\n",
    "print \"Ranking of Avg Tips for Sammie:\"\n",
    "df = pd.Series([\"$%.2f (+0.00)\" %sFavg, \"$%.2f (+0.03)\" %mu_s, \"$%.2f (+0.03)\" %sMavg], index=['Women:', 'Overall:', 'Men:'])\n",
    "print df , \"\\n\\n\"\n",
    "\n",
    "\n",
    "#Finally, to get the overall mean for the both of us:\n",
    "data = pd.read_csv(path)\n",
    "bothDels = data.loc[data['Tip']>=-10.00][['Tip']]\n",
    "mu_b = bothDels.mean()\n",
    "\n",
    "print \"Ranking of All Seven Avg Tips:\"\n",
    "df = pd.Series([\"$%.2f (+0.00)\" %aFavg, \"$%.2f (+0.15)\" %sFavg, \"$%.2f (+0.01)\" %mu_a, \"$%.2f (+0.02)\" %mu_b, \n",
    "                \"$%.2f (+0.03)\" %mu_s, \"$%.2f (+0.03)\" %sMavg, \"$%.2f (+0.03)\" %aMavg], \n",
    "               index=['A-Women:', 'S-Women:', 'A-Overall:', 'Both-Overall:', 'S-Overall:', \"S-Men:\", 'A-Men:'])\n",
    "print df"
   ]
  },
  {
   "cell_type": "code",
   "execution_count": 95,
   "metadata": {
    "collapsed": false
   },
   "outputs": [
    {
     "name": "stdout",
     "output_type": "stream",
     "text": [
      "Angel stdev: 2.1848\n",
      "Sammie stdev: 2.0408\n"
     ]
    }
   ],
   "source": [
    "print \"Angel stdev: %.4f\" %sigma_a\n",
    "print \"Sammie stdev: %.4f\" %sigma_s"
   ]
  },
  {
   "cell_type": "markdown",
   "metadata": {},
   "source": [
    "I think the biggest lesson I learned from this notebook is that statistics and probability may be presented in a binary:\n",
    "\n",
    "**1. FAIL TO REJECT NULL**\n",
    "\n",
    "**2. REJECT NULL**\n",
    "\n",
    "in which problems are meant to be computed (I think partly for ease of learning), but reality is not always like this. Here we have a case where there is a nuanced difference between the tips Sammie and I were getting. I may have been getting overall a tiny less on tips* , but men were tipping me better than her, and women were tipping her better than me. In the last mini-spreadsheet here, there is a very interesting symmetry of tip averages as well.\n",
    "\n",
    "This gender-preference may also be part of the root cause of the difference between our two standard deviations. It's not that much, but it's there, and that's what teaches me that I may be dealing with a question that requires judgment, care, and wisdom to not be too hasty to jump to conclusions.\n",
    "\n",
    "*3 cents or statistically no difference as seen by the only Hypothesis test in this notebook"
   ]
  }
 ],
 "metadata": {
  "celltoolbar": "Raw Cell Format",
  "kernelspec": {
   "display_name": "Python 2",
   "language": "python",
   "name": "python2"
  },
  "language_info": {
   "codemirror_mode": {
    "name": "ipython",
    "version": 2
   },
   "file_extension": ".py",
   "mimetype": "text/x-python",
   "name": "python",
   "nbconvert_exporter": "python",
   "pygments_lexer": "ipython2",
   "version": "2.7.11"
  }
 },
 "nbformat": 4,
 "nbformat_minor": 0
}
