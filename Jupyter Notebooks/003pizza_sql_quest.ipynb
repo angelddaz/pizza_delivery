{
 "cells": [
  {
   "cell_type": "markdown",
   "metadata": {
    "deletable": true,
    "editable": true
   },
   "source": [
    "A quest to answer questions about my pizza delivery dataset with sqlite\n",
    "![Domino's](http://www.pizzadelivery.org/Portals/0/ContentImages/xebra_dominos_store.jpg)\n",
    "\n",
    "First I had to figure out how to create a database from my csv and that took a few hours to get right but I'm glad I did."
   ]
  },
  {
   "cell_type": "code",
   "execution_count": 4,
   "metadata": {
    "collapsed": false,
    "deletable": true,
    "editable": true
   },
   "outputs": [
    {
     "name": "stdout",
     "output_type": "stream",
     "text": [
      "   Count(*)\n",
      "0      1301\n"
     ]
    }
   ],
   "source": [
    "import pandas as pd\n",
    "from sqlalchemy import create_engine # database connection\n",
    "import datetime as dt\n",
    "from sqlalchemy.orm import sessionmaker\n",
    "\n",
    "path = r'C:\\Users\\angelddaz\\OneDrive\\Documents\\data_training\\data\\RawDelData.csv'\n",
    "disk_engine = create_engine('sqlite:///data.db') # Initializes database with filename 311_8M.db in current directory\n",
    "connection = disk_engine.connect()\n",
    "\n",
    "j = 0\n",
    "index_start = 1\n",
    "\n",
    "for df in pd.read_csv(path, iterator=True, encoding='utf-8'):\n",
    "    df['Timestamp'] = pd.to_datetime(df['Timestamp']) # Convert to datetimes, welp this line didn't work haha #TOFIX\n",
    "    df.index += index_start\n",
    "    columns = ['Key', 'Date', 'mmdd', 'DayOfTheWeek', 'Area', 'Distance', 'Timestamp', 'Tip', 'OrderAmount', 'TipPercent', \\\n",
    "               'Housing', 'GenderOfTipper', 'Cash/Credit_Tip', 'Cash/Credit_Order', 'PersonWhoDelivered', 'Area(text)', \\\n",
    "               'Latitude', 'Longitude', 'month']\n",
    "    j+=1\n",
    "    df.to_sql('data', disk_engine, if_exists='replace')\n",
    "    index_start = df.index[-1] + 1\n",
    "\n",
    "df.ix[df['Key'] >= 1303]\n",
    "#Just to see if this works\n",
    "df = pd.read_sql_query('SELECT Tip, Key, Housing FROM data WHERE Housing = \"Apartment\" ', disk_engine)\n",
    "\n",
    "print pd.read_sql_query('SELECT Count(*) FROM data', disk_engine)\n",
    "connection.close()"
   ]
  },
  {
   "cell_type": "markdown",
   "metadata": {
    "deletable": true,
    "editable": true
   },
   "source": [
    "1301 is the correct number of rows in our dataset so it looks like we're all good to go in this sql quest!"
   ]
  }
 ],
 "metadata": {
  "kernelspec": {
   "display_name": "Python 2",
   "language": "python",
   "name": "python2"
  },
  "language_info": {
   "codemirror_mode": {
    "name": "ipython",
    "version": 2
   },
   "file_extension": ".py",
   "mimetype": "text/x-python",
   "name": "python",
   "nbconvert_exporter": "python",
   "pygments_lexer": "ipython2",
   "version": "2.7.11"
  }
 },
 "nbformat": 4,
 "nbformat_minor": 0
}
