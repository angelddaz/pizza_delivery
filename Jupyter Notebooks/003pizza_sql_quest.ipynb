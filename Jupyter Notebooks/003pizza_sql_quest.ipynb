{
 "cells": [
  {
   "cell_type": "markdown",
   "metadata": {
    "deletable": true,
    "editable": true
   },
   "source": [
    "A quest to answer questions about my pizza delivery dataset with sqlite\n",
    "![Domino's](http://www.pizzadelivery.org/Portals/0/ContentImages/xebra_dominos_store.jpg)\n",
    "\n",
    "First I had to figure out how to create a database from my csv and that took a few hours to get right but I'm glad I did."
   ]
  },
  {
   "cell_type": "code",
   "execution_count": 28,
   "metadata": {
    "collapsed": false,
    "deletable": true,
    "editable": true
   },
   "outputs": [],
   "source": [
    "import pandas as pd\n",
    "from sqlalchemy import create_engine # database connection\n",
    "import datetime as dt\n",
    "from sqlalchemy.orm import sessionmaker\n",
    "\n",
    "path = r'C:\\Users\\angelddaz\\OneDrive\\Documents\\data_training\\data\\RawDelData.csv'\n",
    "disk_engine = create_engine('sqlite:///data.db') # Initializes database with filename 'data.db' in current directory\n",
    "connection = disk_engine.connect()\n",
    "\n",
    "j = 0\n",
    "index_start = 1\n",
    "\n",
    "for df in pd.read_csv(path, iterator=True, encoding='utf-8'):\n",
    "    df['Timestamp'] = pd.to_datetime(df['Timestamp']) # Convert to datetimes, welp this line didn't work haha #TOFIX\n",
    "    df.index += index_start\n",
    "    columns = ['Key', 'Date', 'mmdd', 'DayOfTheWeek', 'Area', 'Distance', 'Timestamp', 'Tip', 'OrderAmount', 'TipPercent', \\\n",
    "               'Housing', 'GenderOfTipper', 'Cash/Credit_Tip', 'Cash/Credit_Order', 'PersonWhoDelivered', 'Area(text)', \\\n",
    "               'Latitude', 'Longitude', 'month']\n",
    "    j+=1\n",
    "    df.to_sql('data', disk_engine, if_exists='replace')\n",
    "    index_start = df.index[-1] + 1\n",
    "    \n",
    "connection.close()"
   ]
  },
  {
   "cell_type": "code",
   "execution_count": 11,
   "metadata": {
    "collapsed": false
   },
   "outputs": [
    {
     "name": "stdout",
     "output_type": "stream",
     "text": [
      "      Key   Tip    Housing\n",
      "464  1287  7.71  Apartment\n",
      "465  1289  3.00  Apartment\n",
      "466  1296  5.00  Apartment\n",
      "467  1298  3.00  Apartment\n",
      "468  1299  6.47  Apartment \n",
      "\n",
      "   Count(*)\n",
      "0      1301\n"
     ]
    }
   ],
   "source": [
    "#Some practice queries to see if our database creation above works\n",
    "df = pd.read_sql_query('SELECT Key, Tip, Housing FROM data WHERE Housing = \"Apartment\" ', disk_engine)\n",
    "print df.tail(), \"\\n\"\n",
    "print pd.read_sql_query('SELECT Count(*) FROM data', disk_engine)"
   ]
  },
  {
   "cell_type": "code",
   "execution_count": 32,
   "metadata": {
    "collapsed": false
   },
   "outputs": [
    {
     "data": {
      "text/html": [
       "<img src=\"https://maxcdn.icons8.com/Share/icon/Data//database1600.png\" width=\"300\" height=\"300\"/>"
      ],
      "text/plain": [
       "<IPython.core.display.Image object>"
      ]
     },
     "execution_count": 32,
     "metadata": {},
     "output_type": "execute_result"
    }
   ],
   "source": [
    "from IPython.display import Image\n",
    "from IPython.core.display import HTML \n",
    "Image(url= \"https://maxcdn.icons8.com/Share/icon/Data//database1600.png\", width=300, height=300)\n",
    "#AWESOME. I have the database functional and ready."
   ]
  },
  {
   "cell_type": "markdown",
   "metadata": {
    "deletable": true,
    "editable": true
   },
   "source": [
    "1301 is the correct number of rows in our dataset so it looks like we're all good to go in this sql quest!\n",
    "\n",
    "I'm just going to think of questions to answer in comments and then try to work out the SQL queries. It's going to start off really basic because although I am relatively familiar with SQL server and a variety of queries, I want to learn how to crawl in this setting first.\n",
    "\n",
    "![](http://lovenewborns.com/wp-content/uploads/2016/04/NYo.jpg)"
   ]
  },
  {
   "cell_type": "code",
   "execution_count": 53,
   "metadata": {
    "collapsed": false
   },
   "outputs": [
    {
     "name": "stdout",
     "output_type": "stream",
     "text": [
      "#1\n",
      "   Angel Dels\n",
      "0         712 \n",
      "\n",
      "#2\n",
      "   Sam Dels\n",
      "0       589 \n",
      "\n"
     ]
    }
   ],
   "source": [
    "#1. Find out how many deliveries Angel took\n",
    "print \"#1\"\n",
    "print pd.read_sql_query('SELECT Count(*) AS [Angel Dels] FROM data AS d1\\\n",
    "                        WHERE d1.PersonWhoDelivered = \"Angel\"', disk_engine), \"\\n\"\n",
    "\n",
    "#2. Find out how many deliveries Sammie took\n",
    "print \"#2\"\n",
    "print pd.read_sql_query('SELECT Count(*) AS [Sam Dels] FROM data AS d1\\\n",
    "                        WHERE d1.PersonWhoDelivered = \"Sammie\"', disk_engine), \"\\n\"\n",
    "\n",
    "#print pd.read_sql_query('SELECT * FROM data', disk_engine)"
   ]
  },
  {
   "cell_type": "code",
   "execution_count": 57,
   "metadata": {
    "collapsed": false
   },
   "outputs": [
    {
     "name": "stdout",
     "output_type": "stream",
     "text": [
      "[(49, u'Angel', 10.0), (603, u'Angel', 10.0), (786, u'Angel', 10.0), (107, u'Angel', 11.56), (77, u'Sammie', 10.0), (96, u'Sammie', 10.0), (138, u'Sammie', 10.0), (533, u'Sammie', 10.0), (1096, u'Sammie', 16.6)]\n"
     ]
    }
   ],
   "source": [
    "#I'm going to try using sqlite using the database I created\n",
    "import sqlite3\n",
    "db = sqlite3.connect('data.db')\n",
    "\n",
    "cursor = db.cursor()\n",
    "cursor.execute( '''SELECT Key, PersonWhoDelivered, Tip FROM data WHERE Housing =\"Apartment\" \n",
    "                AND Tip >= 10 ORDER BY PersonWhoDelivered, Tip''')\n",
    "print cursor.fetchall()\n",
    "db.close()"
   ]
  },
  {
   "cell_type": "markdown",
   "metadata": {},
   "source": [
    "The formatting is not quite what I would like but I think I like this method better, using sqlite instead of the pandas querying methods.\n",
    "\n",
    "The most fun I've had with SQL is with relational databases. This is a single table so any kind of querys I can think of would be a little boring so I'm going to leave this notebook here. Setting up the database was a challenging problem worth tackling on it's own."
   ]
  },
  {
   "cell_type": "code",
   "execution_count": null,
   "metadata": {
    "collapsed": true
   },
   "outputs": [],
   "source": []
  }
 ],
 "metadata": {
  "kernelspec": {
   "display_name": "Python 2",
   "language": "python",
   "name": "python2"
  },
  "language_info": {
   "codemirror_mode": {
    "name": "ipython",
    "version": 2
   },
   "file_extension": ".py",
   "mimetype": "text/x-python",
   "name": "python",
   "nbconvert_exporter": "python",
   "pygments_lexer": "ipython2",
   "version": "2.7.13"
  }
 },
 "nbformat": 4,
 "nbformat_minor": 0
}
