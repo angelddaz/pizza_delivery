{
 "cells": [
  {
   "cell_type": "markdown",
   "metadata": {},
   "source": [
    "In this notebook, I want to start to answer some questions with regards to the timing of deliveries. I have dates and I have times. I prepared another csv file with some more granular columns to help me with these questions. First I just want to figure out how to set this up. Maybe a scatter plot of deliveries over time?"
   ]
  },
  {
   "cell_type": "code",
   "execution_count": 2,
   "metadata": {
    "collapsed": false
   },
   "outputs": [
    {
     "name": "stdout",
     "output_type": "stream",
     "text": [
      "      Count            Date         DateTime       Timestamp   Tip   time\n",
      "1296   1297   9/6/2015 0:00   9/6/2015 17:42  1/0/00 5:42 PM  0.64  17:42\n",
      "1297   1298  9/20/2015 0:00  9/20/2015 17:42  1/0/00 5:42 PM  3.00  17:42\n",
      "1298   1299  7/31/2015 0:00  7/31/2015 17:41  1/0/00 5:41 PM  6.47  17:41\n",
      "1299   1300   8/2/2015 0:00   8/2/2015 17:41  1/0/00 5:41 PM  1.12  17:41\n",
      "1300   1301  10/4/2015 0:00  10/4/2015 17:41  1/0/00 5:41 PM  3.00  17:41\n"
     ]
    }
   ],
   "source": [
    "import pandas as pd\n",
    "\n",
    "df = pd.read_csv(r'C:\\Users\\angel\\OneDrive\\Documents\\data_training\\date_time.csv')\n",
    "print df.tail()\n",
    "\n",
    "#I am not sure what I will and won't need, so there's columns here that may be useless."
   ]
  },
  {
   "cell_type": "code",
   "execution_count": 13,
   "metadata": {
    "collapsed": false
   },
   "outputs": [
    {
     "data": {
      "image/png": "[encoded data removed]",
      "text/plain": [
       "<matplotlib.figure.Figure at 0xb18f160>"
      ]
     },
     "metadata": {},
     "output_type": "display_data"
    }
   ],
   "source": [
    "filename = r'C:\\Users\\angel\\OneDrive\\Documents\\data_training\\date_time.csv'\n",
    "df = pd.read_csv(filename, infer_datetime_format=True)\n",
    "\n",
    "import matplotlib.pyplot as plt\n",
    "%matplotlib inline\n",
    "\n",
    "import datetime\n",
    "x = df.Count\n",
    "y = df.Tip\n",
    "n = len(df)\n",
    "plt.title('n = %s' %n, fontsize=22)\n",
    "plt.scatter(x, y)\n",
    "plt.rcParams['figure.figsize'] = (15, 10)\n",
    "plt.show()"
   ]
  },
  {
   "cell_type": "code",
   "execution_count": null,
   "metadata": {
    "collapsed": true
   },
   "outputs": [],
   "source": []
  }
 ],
 "metadata": {
  "kernelspec": {
   "display_name": "Python 2",
   "language": "python",
   "name": "python2"
  },
  "language_info": {
   "codemirror_mode": {
    "name": "ipython",
    "version": 2
   },
   "file_extension": ".py",
   "mimetype": "text/x-python",
   "name": "python",
   "nbconvert_exporter": "python",
   "pygments_lexer": "ipython2",
   "version": "2.7.13"
  }
 },
 "nbformat": 4,
 "nbformat_minor": 2
}
